{
 "cells": [
  {
   "cell_type": "code",
   "execution_count": 1,
   "id": "54eb1889-d26a-4bca-9413-17fbb1c3ee76",
   "metadata": {},
   "outputs": [],
   "source": [
    "import psycopg2"
   ]
  },
  {
   "cell_type": "code",
   "execution_count": 2,
   "id": "140945f3-8605-4d58-aef9-1e88f380dc32",
   "metadata": {},
   "outputs": [],
   "source": [
    "try: \n",
    "    con = psycopg2.connect(host=\"localhost\", database=\"siddharthdb\", user=\"postgres\", password=\"password\")\n",
    "except Exception as e:\n",
    "    print(e)"
   ]
  },
  {
   "cell_type": "code",
   "execution_count": 9,
   "id": "0f439b45-4a99-4fbc-a168-67168de66b8a",
   "metadata": {
    "tags": []
   },
   "outputs": [],
   "source": [
    "con = psycopg2.connect(host=\"localhost\", \n",
    "                       database=\"siddharthdb\", \n",
    "                       user=\"postgres\", \n",
    "                       password=\"password\")\n",
    "\n",
    "#cursor\n",
    "cur = con.cursor()\n",
    "\n",
    "# Execute query\n",
    "cur.execute(\"CREATE TABLE IF NOT EXISTS employee( id VARCHAR(50) PRIMARY KEY, name VARCHAR(50) NOT NULL)\")\n",
    "\n",
    "\n",
    "try:\n",
    "    cur.execute(\"INSERT INTO employee IF NOT EXISTS (id, name) VALUES (1, 'Siddharth')\")\n",
    "    con.commit()\n",
    "except Exception as e:\n",
    "    con.rollback()\n",
    "    # print(e)\n",
    "\n"
   ]
  },
  {
   "cell_type": "code",
   "execution_count": 10,
   "id": "c014bd7f-51f8-4e5a-9ebf-9ba4cbe697b0",
   "metadata": {},
   "outputs": [
    {
     "name": "stdout",
     "output_type": "stream",
     "text": [
      "('1', 'Siddharth')\n"
     ]
    }
   ],
   "source": [
    "cur.execute(\"SELECT * FROM employee\")\n",
    "\n",
    "row = cur.fetchall()\n",
    "for r in row:\n",
    "    print(r)\n",
    "cur.close()\n",
    "con.close()"
   ]
  },
  {
   "cell_type": "code",
   "execution_count": 32,
   "id": "5a9a62f3-25eb-4821-be8d-26f5d68083f9",
   "metadata": {},
   "outputs": [
    {
     "name": "stdout",
     "output_type": "stream",
     "text": [
      "duplicate key value violates unique constraint \"employee_pkey\"\n",
      "DETAIL:  Key (id)=(2) already exists.\n",
      "\n"
     ]
    }
   ],
   "source": [
    "employee_list = [(2, 'Arun'), (3, 'Dhiraj'), (4, 'Yash')]\n",
    "\n",
    "try:\n",
    "    con = psycopg2.connect(dbname=\"siddharthdb\", \n",
    "                           user=\"postgres\", \n",
    "                           password=\"password\", \n",
    "                           host=\"localhost\")\n",
    "    cur = con.cursor()\n",
    "    # con.autocommit(True)\n",
    "    \n",
    "    for emp_id, emp_name in employee_list:\n",
    "        # print(emp_id, emp_name)\n",
    "        cur.execute(\"INSERT INTO employee(id, name) VALUES (%s, %s)\", (emp_id, emp_name))\n",
    "        con.commit()\n",
    "        \n",
    "        \n",
    "except Exception as e:\n",
    "    print(e)\n",
    "    con.rollback()\n"
   ]
  },
  {
   "cell_type": "code",
   "execution_count": 33,
   "id": "02b095e1-fba5-4715-a65a-f0e8286d1d9a",
   "metadata": {},
   "outputs": [
    {
     "name": "stdout",
     "output_type": "stream",
     "text": [
      "('1', 'Siddharth')\n",
      "('2', 'Arun')\n",
      "('3', 'Dhiraj')\n",
      "('4', 'Yash')\n"
     ]
    }
   ],
   "source": [
    "# GET the record\n",
    "\n",
    "cur.execute(\"SELECT * FROM employee\")\n",
    "\n",
    "row = cur.fetchall()\n",
    "for r in row:\n",
    "    print(r)\n",
    "cur.close()\n",
    "con.close()"
   ]
  },
  {
   "cell_type": "code",
   "execution_count": null,
   "id": "98b08720-07b3-4e0c-98c3-bb8f64f5eb52",
   "metadata": {},
   "outputs": [],
   "source": []
  },
  {
   "cell_type": "code",
   "execution_count": null,
   "id": "ddff55b7-34c0-4d3c-85c8-7c42b4d656ae",
   "metadata": {},
   "outputs": [],
   "source": []
  }
 ],
 "metadata": {
  "kernelspec": {
   "display_name": "Python 3 (ipykernel)",
   "language": "python",
   "name": "python3"
  },
  "language_info": {
   "codemirror_mode": {
    "name": "ipython",
    "version": 3
   },
   "file_extension": ".py",
   "mimetype": "text/x-python",
   "name": "python",
   "nbconvert_exporter": "python",
   "pygments_lexer": "ipython3",
   "version": "3.9.7"
  }
 },
 "nbformat": 4,
 "nbformat_minor": 5
}
