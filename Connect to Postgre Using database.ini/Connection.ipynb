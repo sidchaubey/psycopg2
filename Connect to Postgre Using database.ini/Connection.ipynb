{
 "cells": [
  {
   "cell_type": "code",
   "execution_count": 1,
   "id": "66bf212a-4d7a-450c-97fa-90c04af3e8a2",
   "metadata": {},
   "outputs": [],
   "source": [
    "#!/usr/bin/python\n",
    "from configparser import ConfigParser\n",
    " \n",
    "def config(filename='database.ini', section='postgresql'):\n",
    "    # create a parser\n",
    "    parser = ConfigParser()\n",
    "    # read config file\n",
    "    parser.read(filename)\n",
    " \n",
    "    # get section, default to postgresql\n",
    "    db = {}\n",
    "    \n",
    "    # Checks to see if section (postgresql) parser exists\n",
    "    if parser.has_section(section):\n",
    "        params = parser.items(section)\n",
    "        for param in params:\n",
    "            db[param[0]] = param[1]\n",
    "         \n",
    "    # Returns an error if a parameter is called that is not listed in the initialization file\n",
    "    else:\n",
    "        raise Exception('Section {0} not found in the {1} file'.format(section, filename))\n",
    " \n",
    "    return db"
   ]
  },
  {
   "cell_type": "code",
   "execution_count": 14,
   "id": "f7bc118d-2858-4c31-914b-db09375fd4e5",
   "metadata": {},
   "outputs": [
    {
     "name": "stdout",
     "output_type": "stream",
     "text": [
      "('1', 'Siddharth')\n",
      "('2', 'Arun')\n",
      "('3', 'Dhiraj')\n",
      "('4', 'Yash')\n"
     ]
    }
   ],
   "source": [
    "import psycopg2\n",
    "\n",
    "try:\n",
    "    params = config()\n",
    "    con = psycopg2.connect(**params)\n",
    "    cur = con.cursor()\n",
    "    \n",
    "    cur.execute(\"SELECT * FROM employee\")\n",
    "    row = cur.fetchall()\n",
    "    for data in row:\n",
    "        print(data)\n",
    "        \n",
    "except Exception as e:\n",
    "    print(e)\n",
    "    con.rollback()\n",
    "\n"
   ]
  },
  {
   "cell_type": "code",
   "execution_count": 8,
   "id": "3941af61-bff7-4252-a905-d787385e6471",
   "metadata": {},
   "outputs": [
    {
     "data": {
      "text/plain": [
       "{'host': '\"localhost\"',\n",
       " 'database': '\"siddharthdb\"',\n",
       " 'username': '\"postgres\"',\n",
       " 'password': '\"password\"'}"
      ]
     },
     "execution_count": 8,
     "metadata": {},
     "output_type": "execute_result"
    }
   ],
   "source": []
  },
  {
   "cell_type": "code",
   "execution_count": null,
   "id": "2e6df8cb-5328-468a-b701-1b0a75c6b782",
   "metadata": {},
   "outputs": [],
   "source": []
  }
 ],
 "metadata": {
  "kernelspec": {
   "display_name": "Python 3 (ipykernel)",
   "language": "python",
   "name": "python3"
  },
  "language_info": {
   "codemirror_mode": {
    "name": "ipython",
    "version": 3
   },
   "file_extension": ".py",
   "mimetype": "text/x-python",
   "name": "python",
   "nbconvert_exporter": "python",
   "pygments_lexer": "ipython3",
   "version": "3.9.7"
  }
 },
 "nbformat": 4,
 "nbformat_minor": 5
}
